{
 "cells": [
  {
   "cell_type": "markdown",
   "id": "60e16dbf-5d06-45a4-848b-f7a7f8ccc35e",
   "metadata": {},
   "source": [
    "# Appendix"
   ]
  },
  {
   "cell_type": "markdown",
   "id": "d8dc348b-730a-4389-a687-a96a020e10d4",
   "metadata": {},
   "source": [
    "With the game of poker, mathematicians have a way to illustrate nearly every problem-solving tool needed for an undergraduate course in probability. This appendix covers basic poker concepts and explains basic terms. This appendix is a\n",
    "\n",
    "**<center>Poker Primer</center>**"
   ]
  },
  {
   "cell_type": "markdown",
   "id": "d86143e1-d24a-4cb8-8186-53981d4e4796",
   "metadata": {},
   "source": [
    "Understanding the examples in this document requires a basic understanding of poker. For examples in this text, we will use a game poker players call 200nl which means \"No Limit Texas Holdem, 200 dollar max buy-in,\" a game where the small blind (SB) is 1 dollar and the big blind (BB) is 2 dollars. All bets must be at least as big as the BB, or 2 bucks. This will keep the math simpler, though the calculations apply equally well to all poker games. It is highly recommended that the student wishing to perform well in the probability units for this class spend at least twenty to thirty minutes playing **free** poker online. You should play NLHE and learn the basic mechanics and language of the game.\n",
    "\n",
    "**Cards.** Poker is played with a standard deck of 52 cards (no jokers or wild cards). The deck has four suits: spades ($\\spadesuit $), hearts ($\\heartsuit $), diamonds ($\\diamondsuit $), and clubs ($\\clubsuit $). Spades and clubs are black. Hearts and diamonds are red. The cards have 13 different values, from strongest to weakest: "
   ]
  },
  {
   "cell_type": "markdown",
   "id": "05857a0c-8592-4e21-b14c-9ac6c937f805",
   "metadata": {},
   "source": [
    "$$\\text{A K Q J T 9 8 7 6 5 4 3 2}$$"
   ]
  },
  {
   "cell_type": "markdown",
   "id": "75816736-2fc0-409c-87e4-efe2541804da",
   "metadata": {},
   "source": [
    "Aces can be counted as high or low for the purposes of straights. Most poker books and articles use algebraic notation for the cards. We indicate card strength in capital letters or numbers followed by the suit in lowercase letters. The Ace of spades is written As, the 8 of hearts is written 8h, and so forth."
   ]
  },
  {
   "cell_type": "markdown",
   "id": "7e61528e-1564-40e0-b4ee-c073b2db07f9",
   "metadata": {},
   "source": [
    "```{sidebar} Poker Notation\n",
    "\n",
    "Poker enthusiasts describe a five-card hand as\n",
    "\n",
    "<center>Ah Ks Jc Tc 8d</center>\n",
    "```"
   ]
  },
  {
   "cell_type": "markdown",
   "id": "bfa0b17a-f266-4ccb-a613-23b8c6d7cf29",
   "metadata": {},
   "source": [
    "There are times when the suit indicator letter is left off which means no flushes or flush draws come into play. Preflop, we write AK to indicate any combination of Ace and King, AKo (offsuit) when they are of different suits, and AKs when they are of the same suite (suited). Note that we use T instead 10 so that every card has a two symbol identifier.\n",
    "\n",
    "**Hands.** The winning hands in poker are based on five card hands, though rarely is poker played with only five cards available for each player. Most often, the player uses seven cards and makes his best 5-card hand from them. The ranking of hands is as follows, from best to worst:\n",
    "\n",
    "- Straight Flush: J T 9 8 7 of same suit\n",
    "- 4-of-a-Kind: J J J J\n",
    "- Full House: 8 8 8 2 2\n",
    "- Flush: All five cards same suit, for example, Kh, Qh, 8h, 4h, 3h\n",
    "- Straight: All five cards in a row, for example, 9 8 7 6 5\n",
    "- 3-of-a-Kind: T T T\n",
    "- 2 Pair: T T 7 7\n",
    "- 1 Pair: J J\n",
    "- Ace high\n",
    "\n",
    "Ties result when players have identical hands, and the pot is divided equally among the two (or more) tied players. Unlike Bridge, there is no ranking of suits. A 7-high heart flush ties with a 7-high club flush.\n",
    "\\paragraph{Betting.} In most common poker games, the first betting round occurs after the first group cards are dealt to each player (2 each in NLHE). Most modern poker games have \"forced bets.\" In stud games, each player antes, and a \"bring-in bet\" is required of half the size of a standard bet. An ante is a small amount required to participate in the hand. In poker games like Texas Holdem and Omaha, forced bets are called \"blinds\" and are based on your position. The first player to the dealer's left pays the small blind (SB) and the second player to the dealer's left pays the big blind (BB). The SB is usually half the BB.\n",
    "\n",
    "Opening bets have several names. Since the SB and BB are forced, any bet larget than the BB is actually a \"raise.\" When a player matches the BB, he is said to be \"limping in\" or \\textbf{limping}. When a player is said to have opened, we mean she has raised unless an \"open limp\" is specified. A preflop reraise (a second unforced bet that raises the player who opened) is called a \\textbf{3-bet}, and a re-reraise is called a \\textbf{4-bet}. In limit poker, a round of betting is usually limitted to 4 total bets, e.g. a bet and 3 raises.\n",
    "\n",
    "**Texas Holdem.** There are four betting rounds in holdem: \n",
    "\n",
    "1. Preflop\n",
    "2. Flop\n",
    "3. Turn\n",
    "4. River\n",
    "\n",
    "Preflop, the players in the blinds make the forced bets, and two cards are dealt face down to each player. A round of betting begins with the first player to the left of the BB. The next five cards dealt are all dealt face up in the center of the table. They are community cards and can be used by any player along with 0, 1, or 2 of his own cards to make the best possible 5-card poker hand. The flop is dealt: three cards. A betting round follows starting with the SB or, if he has folded, the first player to the left of the dealer still active in the hand. The fourth face up card dealt is the turn , and the final card is called the river. Each is followed by a betting round starting with the first active player to the dealer's left.\n",
    "\n",
    "**Omaha.** This game is played exactly like Texas Holdem, with two exceptions. Preflop, each player is dealt four cards face down instead of only two. And, at showdown, a player must use **exactly two cards** from his or her own hand and exactly three on the board. This leads to many \"misread\" hands, especially by novices. The betting rounds are identical.\n",
    "\n",
    "**Strategy.** Several considerations affect every poker decision. Rather far down the list of important considerations is the actual cards Hero holds. More important are considerations like position, stack sizes and reads. In poker, the player who bets the most wins. The cards only break ties.\n",
    "\n",
    "**Expected Value.** Poker players know that luck is involved when cards are drawn randomly from a deck. When the odds of having winning cards hit the board are better than the pot odds, Hero has positive *expected value*. Poker players try to invest heavily when they have good expected value, and they try to get away from hands when they are facing negative expected value. Since Villain's actual cards are only guessed at, Hero can make big mistakes and lose all his chips which is called getting stacked.\n",
    "\n",
    "**Position.** Position is so important that many abbreviations have developed to help poker players quickly discuss hands. In casinos, the dealer position rotates, the position marked by a \"button\" with a \"D\" on it. So the dealer's position is called the button (BTN). The position to the dealer's left is the small blind (SB), next is big blind (BB). Those who bet first are said to be in early position (EP). Later bettors are middle position (MP) while those betting last are late position (LP).\n",
    "\n",
    "A standard NLHE poker game is played with a table of 9 or 10 players. In a 9-player game, the names of the positions are as follows, starting immediately to the dealer's left:\n",
    "\n",
    "- SB - small blind\n",
    "- BB - big blind\n",
    "- UTG - under the gun (first to act in first betting round)\n",
    "- UTG+1\n",
    "- MP1 - 1st middle position player\n",
    "- MP2 - 2nd middle position player\n",
    "- MP3 - also called hijack seat\n",
    "- CO - cutoff seat\n",
    "- BTN - button or dealer\n",
    "\n",
    "A popular online variant is called 6max, where only 6 players sit at the poker table. There, the seats would be labeled as follows:\n",
    "\n",
    "- SB\n",
    "- BB\n",
    "- EP\n",
    "- MP\n",
    "- CO\n",
    "- BTN"
   ]
  },
  {
   "cell_type": "markdown",
   "id": "90e87879-c813-465e-993d-cff929ead6b7",
   "metadata": {},
   "source": [
    "```{admonition} Example 1\n",
    ":class: tip\n",
    "Let's look at a NLHE hand with all the jargon explained. Hero is in the CO (cutoff) for a hand of 6max 200nl (table has six seats, maximum buy-in is 200 dollars. The SB places his 1 dollar forced bet, the BB his 2 dollar. Two cards are dealt to each player. Hero receives TT. EP (or UTG) folds. MP limps (e.g. \"calls\" the 2 dollar BB). Hero opens for a standard raise, typically about 3BB + 1BB/limper, meaning Hero bets 8 dollars ($4\\times2$BB) plus an additional BB for each person who has limped. In this case, Hero bets 10 bucks. \n",
    "\n",
    "The action folds around to the BB, who calls. He has already posted his 2 dollar BB, so he adds 8 more to call the 10 dollar bet. The limper folds. The pot is 23 dollars, 10 bucks each from Hero and the BB plus the \\$1 SB and \\$2 from MP who limped and then folded. The flop comes Q T 5. Villain bets 12, and Hero raises to 30 (matches the 12 dollar bet and raises 18 more).\n",
    "\n",
    "Villain decides to call, which means he must add 18 dollars to his 12 to make 30 bucks total. The turn is a 7, and Villain checks. Hero makes a PSB (pot-sized bet). Preflop, 23 dollars was bet with 60 added on the flop. The turn began with 83 dollars in the pot. Since both players started (we assume, unless specified othewise) with 100BB or 200 dollars, they each have almost 160 left to bet with. Hero wagers about half of his remaining chips, matching the 83 dollars in the pot. This gives Villain 2 to 1 \"pot odds\" which means he must put up 83 bucks for a chance to win 166 more. Villain folds. Hero is returned his 83 dollar bet and rakes in the 83 dollars in the pot.\n",
    "```"
   ]
  },
  {
   "cell_type": "markdown",
   "id": "bb0975b3-4383-44c0-a578-7eabf6561f4e",
   "metadata": {},
   "source": [
    "**Stack Sizes.** Unlike old movies and TV shows, players cannot be \"raised out\" of a hand. Each player can bid any amount from the BB minimum up to everything they have on the table. Buy-ins are usually capped."
   ]
  },
  {
   "cell_type": "markdown",
   "id": "6d36c42a-d75a-422c-908d-043f59b6be49",
   "metadata": {},
   "source": [
    "```{admonition} Example 2\n",
    ":class: tip\n",
    "Suppose Hero has a full buy-in (BI) of \\$200 playing 200nl, but all the other players have only 50 BB, or \\$100 stacks. Hero holds AA on the button (OTB) and an EP player opens for a standard raise of \\$8 showing significant strength. Hero 3-bets to \\$20, everyone else folds except EP who 4-bets to \\$50. Hero goes ``all in,\" meaning he shoves all \\$200 worth of his chips into the center of the table. But Villain only had \\$100 to start the hand, and he bet \\$8 to open and 4-bet \\$42 more, so he only has \\$50 remaining. Hero's \"all-in\" bet is actually just a \\$50 bet. If Villain calls, Hero's chips will be counted, and Hero will be returned any chips which Villain cannot match.\n",
    "```"
   ]
  },
  {
   "cell_type": "markdown",
   "id": "c8634655-e1da-4f7d-9309-37d4cf9b7fd9",
   "metadata": {},
   "source": [
    "The reason stack sizes are so important is due to a phenomenon known as \"implied pot odds.\" Quite possibly the biggest earning NLHE hand is the \"set,\" where Hero holds a pocket pair (pp) like the TT's in the two examples above, then catches a third T on the flop - the classic \"flopping a set\" that every NLHE player dreams about. In the happiest version of the story, Villain open raises for 10 bucks and Hero calls. If villain has 150 bucks left in his stack, Hero is getting 15 to 1 \"set odds\" on his hand, meaning he stands to win 150 dollars more if the flop comes something like A Q 2. Hero's \"implied odds\" are good for two reasons. The EP open raise indicates a strong hand for Villain, and the flop is likely to have helped Villain's hand much more than Hero's. So we would expect Villain to continue betting, especially with AK or AQ type hands. Knowing one's implied odds is impossible, but they are greater whenever stacks are deep, when Villain has a good but second-best hand, and when Villain is aggressive (meaning he prefers to bet and raise rather than call - a sure-fire way to get lots of chips in the pot).\n",
    "\n",
    "In general, Hero needs at least 20 to 1 set odds (and often more) to call a preflop bet with a hand like 33. And hands like 8h 7h (called suited connectors) hit two pair or better on the flop once in twenty times. So most poker players suggest at least 30 to 1 effective stack sizes to call a bet with this type of hand."
   ]
  }
 ],
 "metadata": {
  "kernelspec": {
   "display_name": "Python 3 (ipykernel)",
   "language": "python",
   "name": "python3"
  },
  "language_info": {
   "codemirror_mode": {
    "name": "ipython",
    "version": 3
   },
   "file_extension": ".py",
   "mimetype": "text/x-python",
   "name": "python",
   "nbconvert_exporter": "python",
   "pygments_lexer": "ipython3",
   "version": "3.13.1"
  }
 },
 "nbformat": 4,
 "nbformat_minor": 5
}
