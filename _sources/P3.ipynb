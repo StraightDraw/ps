{
 "cells": [
  {
   "cell_type": "markdown",
   "id": "1b19ab60-ff4f-4976-b1a8-c7ff12067e74",
   "metadata": {},
   "source": [
    "# Independent Events"
   ]
  },
  {
   "cell_type": "markdown",
   "id": "ecce8941-43cd-4df0-bdaf-ce46f76e2841",
   "metadata": {},
   "source": [
    "We often ask probability questions like, \"What is the chance of me getting soaked on my 10 minute walk from HNS to Newton Oakes after my 10 o'clock class if there is a 20 minute rain shower starting at some random moment between 9 and noon?\" When we discuss the probability that event $A$ happens given that event $B$ happens, we're talking about *conditional probability*.\n",
    "\n",
    "**Independence.** If the probability of $A$ does not change whether $B$ happens or not, then we say $A$ and $B$ are independent events.\n",
    "\n",
    "To make this mathematically precise, we have notation for conditional probabilities that leverages our set theory basics:"
   ]
  },
  {
   "cell_type": "markdown",
   "id": "239b372b-e183-4d91-b60f-51822d42518b",
   "metadata": {},
   "source": [
    "$$\n",
    "P(A\\text{ given }B)=P(A|B)=\\frac{P(A\\cap B)}{P(B)}\n",
    "$$"
   ]
  },
  {
   "cell_type": "markdown",
   "id": "e1e189bb-4c9e-4052-89cb-3ef2cbda612e",
   "metadata": {},
   "source": [
    "Using this formula, we can restate what independence means as a formula:"
   ]
  },
  {
   "cell_type": "markdown",
   "id": "b2939f6b-554b-4bea-969f-8eb53db89d65",
   "metadata": {},
   "source": [
    "$$\n",
    "\\text{If }P(A)=P(A|B)\\\\\\text{ then }\\\\A\\text{ and }B\\text{ are independent events.}\n",
    "$$"
   ]
  },
  {
   "cell_type": "markdown",
   "id": "11d8fa9d-6e70-4f11-9217-eb67e18a434a",
   "metadata": {},
   "source": [
    "Most probability questions can be solved much more easily if we have either disjoint event sets within the same event space or independent events. Sometimes, the hardest part of a probability problem-sovling task is pulling a compound event set apart into disjoint sets or into independent events."
   ]
  }
 ],
 "metadata": {
  "kernelspec": {
   "display_name": "Python 3 (ipykernel)",
   "language": "python",
   "name": "python3"
  },
  "language_info": {
   "codemirror_mode": {
    "name": "ipython",
    "version": 3
   },
   "file_extension": ".py",
   "mimetype": "text/x-python",
   "name": "python",
   "nbconvert_exporter": "python",
   "pygments_lexer": "ipython3",
   "version": "3.13.1"
  }
 },
 "nbformat": 4,
 "nbformat_minor": 5
}
