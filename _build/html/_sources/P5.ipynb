{
 "cells": [
  {
   "cell_type": "markdown",
   "id": "f988d7cf-bece-4bf7-bc31-7884c1a21ff7",
   "metadata": {},
   "source": [
    "# <center> Odds"
   ]
  },
  {
   "cell_type": "markdown",
   "id": "2a1f9aee-4245-4b33-b7de-3ae1a59247dd",
   "metadata": {},
   "source": [
    "One of the more confusing aspects of Vegas-style betting is that gamblers tend to state probabilities in terms of odds rather than percentages. A weatherman would say \"there's a 70\\% chance of rain tomorrow.\" A gamber would lay 7 to 3 odds for rain tomorrow. A percentage probability is based on the fraction: $\\frac{7}{10}$. For odds, we give a ratio of \"number of successes\" to \"number of failures.\" The *order is important: success to failure*.\n",
    "\n",
    "Poker players know a host of odds. For example, Hero faces odds of roughly 7.5 to 1 against flopping set when starting with a poket pair (pp). The \"against\" turns the odds around, meaning there is likely to be \"1\" success for each \"7.5\" failures. To convert to a probability, we find the denominator by first adding successes and failures. Let $FS$ be the event of flopping a set given that Hero starts with a pp. Then:"
   ]
  },
  {
   "cell_type": "markdown",
   "id": "2d9f6954-1f8b-4992-9a8a-d7b705ccf1b6",
   "metadata": {},
   "source": [
    "$$P(FS)=\\frac{1}{7.5+1}=\\frac{1}{8.5}=\\frac{2}{17}=\\approx0.11765$$"
   ]
  },
  {
   "cell_type": "markdown",
   "id": "6569f8ab-b0db-44bc-87a4-a60dadebdb04",
   "metadata": {},
   "source": [
    "Suppose Hero holds KK while his opponent holds TT. Hero is about a 4 to 1 favorite. This means that a hand like KK will beat a hand like TT about $4$ times in $5$, or $80\\%$ of the time.\n",
    "\n",
    "Poker players tend to estimate both their percentage chance of winning (called equity) and their odds, depending upon the situation. When betting, knowing the odds is more useful since it allows us to match our bet-to-pot ratio and compare it to our successes-to-failure ratio. For example, Hero estimates his chances of winning the pot are 1 in 3, or 2 to 1 against. Villain bets \\$50 into a \\$100 pot. Hero must call $50$ bucks for a chance to win $150$. Hero has 2 to 1 odds (against) making his hand, but the pot is \"laying\" 3 to 1 odds ($150$ to $50$). Hero should call, since the pots odds (his payoff on the bet he is making) are better than his chance of making his hand.\n",
    "\n",
    "Poker players tend to use various odds calculators. Suppose in a tournament, two players bet all-in preflop, Hero has QQ, Villain has AQs. Using an online poker calculator, we find that Hero has a 65.725% chance of winning. Rounding a bit, we find that Hero's odds are 65.8 to 34.2, but we simplify so that the final number is a 1. Dividing both numbers in the ratio by 34.2, we find that $\\frac{65.8}{34.2}=1.9240$. Gamblers and poker players would say his odds were \"slightly worse than 2 to 1,\" call it 1.9 to 1, or for simplicity round to 2 to 1."
   ]
  },
  {
   "cell_type": "markdown",
   "id": "2fbfa612-a594-4470-945a-75688dbd0c85",
   "metadata": {},
   "source": [
    "```{admonition} Equity\n",
    "\n",
    "**Equity** is the percentage of the pot Hero \"deserves\" if all cards were known to all players, and is equal to Hero's percentage chance of winning times the size of the pot.\n",
    "```"
   ]
  }
 ],
 "metadata": {
  "kernelspec": {
   "display_name": "Python 3 (ipykernel)",
   "language": "python",
   "name": "python3"
  },
  "language_info": {
   "codemirror_mode": {
    "name": "ipython",
    "version": 3
   },
   "file_extension": ".py",
   "mimetype": "text/x-python",
   "name": "python",
   "nbconvert_exporter": "python",
   "pygments_lexer": "ipython3",
   "version": "3.13.1"
  }
 },
 "nbformat": 4,
 "nbformat_minor": 5
}
