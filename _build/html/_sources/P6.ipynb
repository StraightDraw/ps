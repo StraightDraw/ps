{
 "cells": [
  {
   "cell_type": "markdown",
   "id": "7cd7b501-7c2f-46ef-965a-bb3eadfc62a7",
   "metadata": {},
   "source": [
    "# Probability Playground"
   ]
  },
  {
   "cell_type": "markdown",
   "id": "d2882aaa-bffc-471f-9524-0980a093194e",
   "metadata": {},
   "source": [
    "A standard **Deck of Playing Cards** makes a great sandbox for a probability course. Most probability ideas can be quickly illustrated using a deck of cards and random draws.The standard deck has ready-made subsets and partitions which help illustrate important ideas. For those unfamiliar with a standard deck of playing cards, there are the thirteen **values** (or *ranks*) and four **suits**: $\\spadesuit,\\textcolor{red}{\\heartsuit}, \\clubsuit,\\textcolor{red}{\\diamondsuit}$."
   ]
  },
  {
   "cell_type": "markdown",
   "id": "d97470e3-e65c-4b5d-ab3a-e57dc945587d",
   "metadata": {},
   "source": [
    "**Graphics: Deck of Cards** "
   ]
  },
  {
   "cell_type": "markdown",
   "id": "095857a7-1fe5-4b56-ab20-138ca6e96995",
   "metadata": {},
   "source": [
    "Whenever we refer to \"drawing a card,\" we mean that a standard deck of 52 playing cards has been well-shuffled and that the draw is perfectly random. Each card has an equal probability of being drawn. We never include jokers or wild cards.The entire deck of cards is shown in the graphic below:"
   ]
  },
  {
   "cell_type": "markdown",
   "id": "49fd98ed-8194-4850-85cb-749bd5f1848d",
   "metadata": {},
   "source": [
    "```{image} /images/DeckCards.png\n",
    ":alt: Deck of Cards\n",
    ":width: 500px\n",
    ":align: center\n",
    "```"
   ]
  },
  {
   "cell_type": "markdown",
   "id": "b3591758-d0f3-4b9e-b30b-457e9cdce0dd",
   "metadata": {},
   "source": [
    "Half the cards are red, half black. Each suit subset has 13 cards in it. Each value subset has four cards. For example, the set $J=\\{J\\spadesuit,J\\heartsuit, J\\clubsuit,J\\diamondsuit\\}$"
   ]
  },
  {
   "cell_type": "markdown",
   "id": "7a41ff8f-9bbd-48a1-85cf-f757a46887f1",
   "metadata": {},
   "source": [
    "```{admonition} Example 3\n",
    "\n",
    "Suppose we draw a single card at random from a well-shuffled standard deck of 52 cards. What is the probability of drawing a heart? Of \\emph{not} drawing a heart?\n",
    "```"
   ]
  },
  {
   "cell_type": "markdown",
   "id": "1ca613de-b6c9-4a33-8a39-e1ba517711ed",
   "metadata": {},
   "source": [
    "**Solution.** Let the probability space $S$ be comprised of all possible outcomes  when drawing one card at random from a standard deck of playing cards. Let $H$ be the event set of drawing a heart ($\\heartsuit$). Then $|H|=13$ because there are 13 possible $\\heartsuit$ outcomes in $S$. Thus:"
   ]
  },
  {
   "cell_type": "markdown",
   "id": "70a6c07a-aef9-431d-9d90-decd4b5245df",
   "metadata": {},
   "source": [
    "$$P(A)=\\frac{|H|}{|S|}=\\frac{13}{52}=\\frac{1}{4}$$"
   ]
  },
  {
   "cell_type": "markdown",
   "id": "68819e87-b155-4df9-bf85-5f15489cbda6",
   "metadata": {},
   "source": [
    "The probability of \"**not** drawing a heart\" inquires about the probability of the **set complement** of the event set $H$ and is denoted $\\bar H$. The probability of the complement of an event set is given by:"
   ]
  },
  {
   "cell_type": "markdown",
   "id": "f514328b-0ef1-4b88-9fa2-b576ce7cac7a",
   "metadata": {},
   "source": [
    "$$\n",
    "P(\\bar H)=1-P(H)    \n",
    "$$"
   ]
  },
  {
   "cell_type": "markdown",
   "id": "53b54c37-6997-426a-afae-d36bb1d94270",
   "metadata": {},
   "source": [
    "Because $|\\bar H|=|S|-|H|$, we have:"
   ]
  },
  {
   "cell_type": "markdown",
   "id": "dc72ee2d-2228-4cc8-b572-386797cf0a73",
   "metadata": {},
   "source": [
    "$$P(\\bar{H})=\\frac{|\\bar{H}|}{|S|}$$"
   ]
  },
  {
   "cell_type": "markdown",
   "id": "03e43e6b-ef2f-4aff-aeb7-2f23462e5532",
   "metadata": {},
   "source": [
    "$$=\\frac{|S|-|H|}{|S|}$$"
   ]
  },
  {
   "cell_type": "markdown",
   "id": "c8a5e833-881a-4114-9bcb-950d550a2895",
   "metadata": {},
   "source": [
    "$$=\\frac{|S|}{|S|}+\\frac{|H|}{|S|}$$"
   ]
  },
  {
   "cell_type": "markdown",
   "id": "8f16495c-0310-49e5-89cf-864f8e18fadf",
   "metadata": {},
   "source": [
    "$$=1-\\frac{|H|}{|S|}$$"
   ]
  },
  {
   "cell_type": "markdown",
   "id": "334f98a1-05e9-437f-8a66-1716c89ad8cb",
   "metadata": {},
   "source": [
    "To conclude the example from above:"
   ]
  },
  {
   "cell_type": "markdown",
   "id": "a560cded-380d-482e-9e82-d3a37aa2f05d",
   "metadata": {},
   "source": [
    "$$P(\\bar H)=1-\\frac{1}{4}=\\frac{3}{4}$$"
   ]
  }
 ],
 "metadata": {
  "kernelspec": {
   "display_name": "Python 3 (ipykernel)",
   "language": "python",
   "name": "python3"
  },
  "language_info": {
   "codemirror_mode": {
    "name": "ipython",
    "version": 3
   },
   "file_extension": ".py",
   "mimetype": "text/x-python",
   "name": "python",
   "nbconvert_exporter": "python",
   "pygments_lexer": "ipython3",
   "version": "3.13.1"
  }
 },
 "nbformat": 4,
 "nbformat_minor": 5
}
