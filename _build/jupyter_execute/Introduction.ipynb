{
 "cells": [
  {
   "cell_type": "markdown",
   "metadata": {},
   "source": [
    "# <center> Course Notes: Probability and Statistics </center>"
   ]
  },
  {
   "cell_type": "markdown",
   "metadata": {},
   "source": [
    "**Robb Sinn, Spring 2005**\n",
    "\n",
    "**University of North Georgia**"
   ]
  },
  {
   "cell_type": "markdown",
   "metadata": {},
   "source": [
    "Professional gamblers and poker players rely upon mathematics to earn their living. Career paths for professional gamblers include running casinos, betting parlors, and lotteries in places where such things are legal. They offer odds for betting on athletic events and horse races. They design and perfect games of chance for casinos, and they verify that those games are fair. Professional poker players are the most high profile example of professional gamblers.\n",
    "\n",
    "What mathematics do they use? They use **probability** to predict the future. They use **statistics** to analyze the past. With an understanding of both, they manufacture hundreds of small edges over their competition to earn money."
   ]
  },
  {
   "cell_type": "markdown",
   "metadata": {},
   "source": [
    "## <center> Technology\n",
    "\n",
    "To help us learn probability and statistics concepts, we will be using the software **R** this semester. We can use R in the UNG datahub, free to all students and accessible using your UNG credentials. You may also wish to download Rstudio for your own laptop. Since R is open-source freeware, there is no cost. However, we can always work in **R** using the UNG datahub from any computer, tablet or smartphone (e.g. any device that has a browser and a connection to the internet)."
   ]
  },
  {
   "cell_type": "markdown",
   "metadata": {},
   "source": [
    "Your professor will provide the installation details in class, if you wish to use **R**. If students have a working knowledge of **Python**, they will be able to use that as well."
   ]
  }
 ],
 "metadata": {
  "kernelspec": {
   "display_name": "Python 3 (ipykernel)",
   "language": "python",
   "name": "python3"
  },
  "language_info": {
   "codemirror_mode": {
    "name": "ipython",
    "version": 3
   },
   "file_extension": ".py",
   "mimetype": "text/x-python",
   "name": "python",
   "nbconvert_exporter": "python",
   "pygments_lexer": "ipython3",
   "version": "3.13.1"
  }
 },
 "nbformat": 4,
 "nbformat_minor": 4
}