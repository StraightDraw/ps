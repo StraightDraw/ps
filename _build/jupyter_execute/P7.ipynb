{
 "cells": [
  {
   "cell_type": "markdown",
   "id": "b230a2ab-869a-49a8-9163-e66392617d3e",
   "metadata": {},
   "source": [
    "# Partitions"
   ]
  },
  {
   "cell_type": "markdown",
   "id": "c6a52c81-b9f3-43ec-aef8-3acbd59c97cd",
   "metadata": {},
   "source": [
    "If two events sets $A$ and $B$ are disjoint, e.g. if $A\\cap B = \\emptyset$, then"
   ]
  },
  {
   "cell_type": "markdown",
   "id": "f00ee4fa-a906-41d3-827f-3ee2cad20fa5",
   "metadata": {},
   "source": [
    "$$P(A\\cup B)=P(A)+P(B)$$"
   ]
  },
  {
   "cell_type": "markdown",
   "id": "a21ccd65-6031-4d79-a3ee-63ff2b1400ca",
   "metadata": {},
   "source": [
    "If the intersection of two or more event sets is **non-empty**, life gets complicated quickly. Disjoint event sets are extremely helpful, so we will often use partitions as tools to break down complicated events into digestible pieces."
   ]
  },
  {
   "cell_type": "markdown",
   "id": "0c20d097-a41d-4edc-8280-2390691eef4b",
   "metadata": {},
   "source": [
    "```{admonition} Definition\n",
    ":class: tip\n",
    "A **partition** is a collection of subsets of the probability space $S$ such that the subsets $A_1, A_2, \\dots , A_n$ have the following properties:\n",
    "1. They are non-empty\n",
    "\n",
    "$$A_i\\neq \\emptyset \\hspace{5mm}\\forall i$$\n",
    "\n",
    "2. They are *pairwise disjoint*\n",
    "\n",
    "$$A_i \\cap A_j = \\emptyset \\hspace{5mm}\\forall i\\neq j$$\n",
    "\n",
    "3. Their union is $S$\n",
    "\n",
    "$$A_1 \\cup A_2 \\cup \\cdots \\cup A_n = S$$\n",
    "```"
   ]
  },
  {
   "cell_type": "markdown",
   "id": "6be16e68-dc75-4d18-b2d3-97dbc9287aac",
   "metadata": {},
   "source": [
    "Property (2) guarantees that every possible intersection of these subsets is empty:"
   ]
  },
  {
   "cell_type": "markdown",
   "id": "5bd4712a-ef57-4e46-b4df-feeae5f1d6fb",
   "metadata": {},
   "source": [
    "$$A_i\\cap A_j=\\emptyset \\hspace{5mm}\\forall\\ i\\neq j\\in\\{1,2,\\dots,n\\}$$"
   ]
  },
  {
   "cell_type": "markdown",
   "id": "4ad85d90-93c2-492c-a7d3-9ed257bf862e",
   "metadata": {},
   "source": [
    "Property (3) ensures that every outcome in the probability space can be found in one of the subsets in the partition. Both are extremely helpful when simplifying probability problem-solving situations.\n",
    "\n",
    "We have two primary partitions in the standard deck of playing cards: values and suits. Consider the four suits. Each suit is a non-empty set because it has 13 elements. A card can be only one suit, so spades and hearts are disjoint as is every pair of possible suits. Finally,. "
   ]
  },
  {
   "cell_type": "markdown",
   "id": "b9a7f912-31dc-4a33-8f76-b44b10a422b7",
   "metadata": {},
   "source": [
    "$$S=\\{\\spadesuit,\\heartsuit, \\clubsuit,\\diamondsuit\\}$$"
   ]
  },
  {
   "cell_type": "markdown",
   "id": "c79fd4c9-391d-48a5-86a0-833d9d65e863",
   "metadata": {},
   "source": [
    "Thus, the suits are subsets that form a partition. Let us define a few additional subsets in the standard deck of playing cards:\n",
    "\n",
    "- Even($E$): $2,4,6,8,T,Q$ in all suits\n",
    "- Odd($O$): $A,3,5,7,9,J,K$ in all suits\n",
    "- Faces($F$): $J, Q,K$ (cards with person pictured) in all suits\n",
    "- Aces ($A$): An $A$ in all suits\n",
    "- Numbered($N$): $2,3,4,5,6,7,8,9,T$\n",
    "\n",
    "Note two more partitions are readily available: $E\\cup O=S$ and $F\\cup A \\cup N=S$.\n",
    "\n"
   ]
  },
  {
   "cell_type": "markdown",
   "id": "de4efe0d-40e4-442a-9d98-0bcbc1d02775",
   "metadata": {},
   "source": [
    "```{Admonition} Example 4\n",
    "\n",
    "A card is drawn at random from a deck of playing cards. Find the probability that the card is:\n",
    "1. A heart \\emph{or} even.\n",
    "2. A heart \\emph{and} even.\n",
    "3. Even but not a heart.\n",
    "```"
   ]
  },
  {
   "cell_type": "markdown",
   "id": "15d438f8-e7fc-49cc-8005-873fb2aa589a",
   "metadata": {},
   "source": [
    "**Solution.** Let $S$ represent the probability space, and let event sets $E$ and $H$ represent drawing an even card or a heart respectively. The situation in part (a) is shown in Figure \\ref{fig:EunionH}:\n",
    "\n",
    "The intersection of $E$ and $H$ is non-empty, namely, the six even hearts, so we cannot just add. When we try to calculate:"
   ]
  },
  {
   "cell_type": "markdown",
   "id": "09c78c87-430d-4251-8a02-845f816dfb9c",
   "metadata": {},
   "source": [
    "$$P(H\\text{ or }E)\\overset{??}{=}P(H)+P(E)=\\frac{1}{4}+\\frac{1}{2}=\\frac{3}{4}$$"
   ]
  },
  {
   "cell_type": "markdown",
   "id": "9980354d-8348-43d2-9db1-adc5e73cc56c",
   "metadata": {},
   "source": [
    "We arrive at an incorrect answer. The 6 even hearts would be counted twice, once in the first fraction and again in the second. We must add a third term to deal with the double-counting:"
   ]
  },
  {
   "cell_type": "markdown",
   "id": "cb7ade61-10dc-42ba-8fb9-24c88a1bfab6",
   "metadata": {},
   "source": [
    "$$\n",
    "P(H\\text{ or }E)\\hspace{5mm}=\\hspace{15mm}P(H\\cup E)\\\\\n",
    "=P(H)+P(E)-P(H\\cap E)\\\\\n",
    "=\\frac{13}{52}+\\frac{26}{52}-\\frac{6}{52}\\\\\n",
    "=\\frac{33}{52}\n",
    "$$"
   ]
  },
  {
   "cell_type": "markdown",
   "id": "1831ad0b-c243-44fd-9018-d5661721616d",
   "metadata": {},
   "source": [
    "For part (b), we have:"
   ]
  },
  {
   "cell_type": "markdown",
   "id": "d539b2e5-2675-4d00-9fc0-f98367c70522",
   "metadata": {},
   "source": [
    "$$P(H\\text{ and } E)=P(H\\cap E)\\\\\n",
    "=\\frac{6}{52}=\\frac{3}{26}$$"
   ]
  },
  {
   "cell_type": "markdown",
   "id": "41aa8474-4d2c-4bc8-8818-b9f0165b8a97",
   "metadata": {},
   "source": [
    "For part (c) we will need set subtraction notation: $A-B=$ is the set of all elements in $A$ that are not in $B$. In terms of set operations we have:"
   ]
  },
  {
   "cell_type": "markdown",
   "id": "2afce93b-e52b-40ce-b851-76db5a212aa9",
   "metadata": {},
   "source": [
    "$$A-B=A\\cap \\bar B$$"
   ]
  },
  {
   "cell_type": "markdown",
   "id": "a78397b7-a9c3-49ba-b99c-d21227d7b108",
   "metadata": {},
   "source": [
    "which is shown below.\n",
    "\n",
    "The blue shaded area is $\\bar B$, so when we take $A\\cap \\bar B$, we gather all elements of $A$ that are not in $B$, as required. The situation for our example is demonstrated below. Using set operations, we have:"
   ]
  },
  {
   "cell_type": "markdown",
   "id": "45c0c729-2597-4f3e-814a-805f24a139ff",
   "metadata": {},
   "source": [
    "$$P(E\\text{ and not }H)=P(E - H)$$"
   ]
  },
  {
   "cell_type": "markdown",
   "id": "dd78d592-5e7a-412c-99df-3872e42ca9cf",
   "metadata": {},
   "source": [
    "$$=P(E\\cap \\bar H)$$"
   ]
  },
  {
   "cell_type": "markdown",
   "id": "114c73a0-27a1-4add-a0d7-403ee576088d",
   "metadata": {},
   "source": [
    "$$=P(E)-P(H\\cap E)$$"
   ]
  },
  {
   "cell_type": "markdown",
   "id": "0309be78-168c-4f66-81db-eb2e32862937",
   "metadata": {},
   "source": [
    "$$=\\frac{26}{52}-\\frac{6}{52}$$"
   ]
  },
  {
   "cell_type": "markdown",
   "id": "892743b9-3146-44ca-971c-ac5c5f76dae0",
   "metadata": {},
   "source": [
    "$$=\\frac{5}{13} $$"
   ]
  },
  {
   "cell_type": "markdown",
   "id": "d2da6fc3-679f-4a05-881b-0284abbe277d",
   "metadata": {},
   "source": [
    "```{admonition} Example 7\n",
    ":class: tip\n",
    "A card is drawn at random from a deck of playing cards. Find the probability that the card is a heart ($\\heartsuit$) or is even or is a face card.\n",
    "```"
   ]
  },
  {
   "cell_type": "markdown",
   "id": "7a3086f2-3d0f-4dc7-a498-21f3526ae114",
   "metadata": {},
   "source": [
    "**Solution.** Clearly, counting all the non-heart, non-even, non-face would be easy,of which cards there are 15."
   ]
  },
  {
   "cell_type": "markdown",
   "id": "77993e2a-c194-4e6f-b777-0ac3d879b5d8",
   "metadata": {},
   "source": [
    "$$P(H\\cup E \\cup F)=1-P(\\overline{H\\cup E \\cup F})=\\frac{52-15}{52}=\\frac{37}{52}$$"
   ]
  },
  {
   "cell_type": "markdown",
   "id": "3eb0c018-9387-4321-8e6d-df8c2ad994c8",
   "metadata": {},
   "source": [
    "The situation in Example 3 is known as the principle of inclusion-exclusion, and the explicit formula will be developed in the next section."
   ]
  }
 ],
 "metadata": {
  "kernelspec": {
   "display_name": "Python 3 (ipykernel)",
   "language": "python",
   "name": "python3"
  },
  "language_info": {
   "codemirror_mode": {
    "name": "ipython",
    "version": 3
   },
   "file_extension": ".py",
   "mimetype": "text/x-python",
   "name": "python",
   "nbconvert_exporter": "python",
   "pygments_lexer": "ipython3",
   "version": "3.13.1"
  }
 },
 "nbformat": 4,
 "nbformat_minor": 5
}