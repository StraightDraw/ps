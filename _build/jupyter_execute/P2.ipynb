{
 "cells": [
  {
   "cell_type": "markdown",
   "id": "4be590a3-6b44-404f-849a-0843c7406ec3",
   "metadata": {},
   "source": [
    "# <center> Compound Events"
   ]
  },
  {
   "cell_type": "markdown",
   "id": "bade2d06-19db-4a34-baef-a3d9d25ebe10",
   "metadata": {},
   "source": [
    "**Robb Sinn, Spring 2005**\n",
    "\n",
    "**Course Notes: MATH 3350**"
   ]
  },
  {
   "cell_type": "markdown",
   "id": "d1e414bc-1f73-4294-bb08-05ceeb7f480f",
   "metadata": {},
   "source": [
    "Many interesting probability questions involve more than one thing happening. Here are two important examples:\n",
    "\n",
    "- What is the probability that, if we play one round of roullette, the outcome is *either* red *or* an even number?\n",
    "- What is the probability that a poker pro draws an Ace-King starting hand on *both* the next hand she plays *and* the one following that?\n",
    "\n",
    "One simplistic mantra often heard in high school classrooms is that \"OR means ADD and AND means MULTIPLY.\" Not so fast. We have some conditions that must be satisfied. Here are more precise statements using set theory:\n",
    "\n",
    "1. For **disjoint** event sets $A$ and $B$:"
   ]
  },
  {
   "cell_type": "markdown",
   "id": "83b62f23-73f2-4d72-a3d2-07841c10199a",
   "metadata": {},
   "source": [
    "$$\n",
    "P(A\\text{ or }B)= P(A\\cup B)=P(A)+P(B)\n",
    "$$"
   ]
  },
  {
   "cell_type": "markdown",
   "id": "17972bcc-09cc-4cd7-a0d4-57f680592582",
   "metadata": {},
   "source": [
    "2. For **independent** event sets $A$ and $B$:"
   ]
  },
  {
   "cell_type": "markdown",
   "id": "91bc05b7-ac60-4051-9103-381685f7e4a7",
   "metadata": {},
   "source": [
    "$$\n",
    "P(A\\text{ and }B)=P(A)P(B)\n",
    "$$"
   ]
  },
  {
   "cell_type": "markdown",
   "id": "cff90abe-c09a-4478-9a24-01ee1d12c9a3",
   "metadata": {},
   "source": [
    "For the second statement, we also often use it for *indpendent trials* or *Bournouli Trials*. We'll discuss details in a moment. Right now, the key idea is that if we have more than one event, we need to know how those events are related to be able to calculate the probability."
   ]
  },
  {
   "cell_type": "code",
   "execution_count": null,
   "id": "3748e105-aa82-40d3-aec0-3c7bdf1cc7db",
   "metadata": {},
   "outputs": [],
   "source": []
  },
  {
   "cell_type": "code",
   "execution_count": null,
   "id": "855b36f6-ca5b-49cd-8169-04c01a37c54a",
   "metadata": {},
   "outputs": [],
   "source": []
  }
 ],
 "metadata": {
  "kernelspec": {
   "display_name": "Python 3 (ipykernel)",
   "language": "python",
   "name": "python3"
  },
  "language_info": {
   "codemirror_mode": {
    "name": "ipython",
    "version": 3
   },
   "file_extension": ".py",
   "mimetype": "text/x-python",
   "name": "python",
   "nbconvert_exporter": "python",
   "pygments_lexer": "ipython3",
   "version": "3.13.1"
  }
 },
 "nbformat": 4,
 "nbformat_minor": 5
}