{
 "cells": [
  {
   "cell_type": "markdown",
   "id": "9363832b-e106-4aea-8208-f9c55d59ee8e",
   "metadata": {},
   "source": [
    "# Set Complements"
   ]
  },
  {
   "cell_type": "markdown",
   "id": "b55126f3-5baf-4217-9780-e04fb0c71e93",
   "metadata": {},
   "source": [
    "It is often far easier to count the outcomes in the complement of event $A$, e.g. the probability that event A does not occur. We denote the **set complement** as $\\overline A$. The formula is:"
   ]
  },
  {
   "cell_type": "markdown",
   "id": "10d08431-9f87-49b1-acaa-e05345b93831",
   "metadata": {},
   "source": [
    "$$\n",
    "P(\\overline A)=\\frac{|\\overline A|}{|S|}=\\frac{|S|-|A|}{|S|}=1-\\frac{|A|}{|S|}=1-P(A)\n",
    "$$"
   ]
  },
  {
   "cell_type": "markdown",
   "id": "6100fc61-f327-458b-9bfe-762bb19b1659",
   "metadata": {},
   "source": [
    "In probability calculations, \"throwing away\" the overlap between two sets can be useful because it creates disjoint sets. Given two events $A$ and $B$ such that $A\\cap B\\neq \\emptyset$, the event \"$A$ but not $B$\" is given by $A\\cap \\overline B$ which we denote as $A\\setminus B$. Sometimes, we will use standard notation, too, as in $$A\\setminus B= A - B$$"
   ]
  },
  {
   "cell_type": "markdown",
   "id": "e8905280-c42c-4de6-bdbf-55ca3842125b",
   "metadata": {},
   "source": [
    "```{admonition} Example 3\n",
    "Hero holds 7$\\textcolor{red}{\\heartsuit}$ 7$\\textcolor{red}{\\diamondsuit}$. A tight-aggressive Villain open-raises from EP (early position -- where players have a very narrow range) and Hero calls on the button. Hero feels he can usually win by bluffing whenever Villain misses the flop, especially on flops like K$\\heartsuit$ 8$\\clubsuit$ 3$\\clubsuit$ with only one big card in them. If Villain has two unpaired cards both of which are nine or better, what is the probability flop with only one big card misses Villain's hand?\n",
    "```"
   ]
  },
  {
   "cell_type": "markdown",
   "id": "9a3cff86-d87e-453c-ae17-9b955bd95f0c",
   "metadata": {},
   "source": [
    "Let $X={0,1,2,3}$ represent hitting $x$ cards on the flop. How often does he hit (and miss) the flop? Assuming Hero doesn't hold any of the cards Villain wants, then there are six cards in the deck that improve Villain's hand. The probability of Villain getting exactly one of those cards on the flop is:"
   ]
  },
  {
   "cell_type": "markdown",
   "id": "bb25baee-bc07-46eb-ab1c-7fb203b85014",
   "metadata": {},
   "source": [
    "$$P(X=1)=\\frac{\\binom{6}{1}\\binom{42}{2}}{\\binom{48}{3}}\\approx.29868$$"
   ]
  },
  {
   "cell_type": "markdown",
   "id": "78cd5244-5827-4205-a112-f6b946ab85c1",
   "metadata": {},
   "source": [
    "We just used some counting techniques we haven't discussed, yet. But don't worry. You'll know how to do these soon enough. Binomial coefficients like $\\binom{42}{2}$ are read as \"forty-two choose two\" and count all possible ways we can choose two cards from forty-two cards if order doesn't matter. Note that Villain could also have two or three of the flop cards hit his hand, and have a monster. These hands are much less likely, but they change the probability somewhat if we include the probability of more than one flop card hitting Villain's hand:"
   ]
  },
  {
   "cell_type": "markdown",
   "id": "6aaf6bcf-3484-4268-8fea-be4f3487c434",
   "metadata": {},
   "source": [
    "$$P(X\\geq1)=\\frac{\\binom{6}{1}\\binom{42}{2}+\\binom{6}{2}\\binom{42}{1}+\\binom{6}{3}\\binom{42}{0}}{\\binom{48}{3}}\\approx.33597$$"
   ]
  },
  {
   "cell_type": "markdown",
   "id": "068d7544-1b80-4dce-ad41-0a09be54de19",
   "metadata": {},
   "source": [
    "The upshot is that any poker player hits the flop about $1/3$ of the time. Of course, hands like $AA$, $KK$ and $QQ$ don't need to hit the flop, so we expect a fit-or-fold player to continue on with the hand about 40\\% of the time. Since Villain will miss the flop for more often than he hits it, our aggressive Hero can use the high likelihood of \"unimproved\" cards in villain's hand to bluff on the flop. This happens so often it has a name: a continuation bet, or **cbet**."
   ]
  }
 ],
 "metadata": {
  "kernelspec": {
   "display_name": "Python 3 (ipykernel)",
   "language": "python",
   "name": "python3"
  },
  "language_info": {
   "codemirror_mode": {
    "name": "ipython",
    "version": 3
   },
   "file_extension": ".py",
   "mimetype": "text/x-python",
   "name": "python",
   "nbconvert_exporter": "python",
   "pygments_lexer": "ipython3",
   "version": "3.13.1"
  }
 },
 "nbformat": 4,
 "nbformat_minor": 5
}