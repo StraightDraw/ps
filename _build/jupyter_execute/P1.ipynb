{
 "cells": [
  {
   "cell_type": "markdown",
   "id": "720b3781-b086-4089-941a-c525781631d5",
   "metadata": {},
   "source": [
    "# <center> Probability"
   ]
  },
  {
   "cell_type": "markdown",
   "id": "1225628a-739c-4e82-8fca-52fb221df321",
   "metadata": {},
   "source": [
    "**Robb Sinn, Spring 2005**\n",
    "\n",
    "**Course Notes: MATH 3350**"
   ]
  },
  {
   "cell_type": "markdown",
   "id": "e4dd83cd-1659-4c7c-8eef-610b6d85bcfd",
   "metadata": {},
   "source": [
    "These course notes provide and introduction to probability and statistics at the introductory level for a mathematics major. Many of the examples in these notes are real poker problems from No Limit Texas Holdem (NLHE) the answers to which intrigue winning players.\n",
    "\n",
    "Professional gamblers and poker players actually use mathematics to earn a living. Career paths for professional gamblers include running casinos and betting parlors in places where such things are legal. They offer odds for betting on athletic events and various races. They design and perfect games of chance for the casino floor and verify that the games are fair. Well, some do. Professional poker players are currently the most high profile examples of professional gamblers. Twenty years ago, few people outside Vegas knew of the legendary Doyle Brunson. Today, many poker pros are celebrities.\n",
    "\n",
    "What mathematics do they use? With probability theory they predict the future. Statistics help them analyze the past. With an understanding of both, they manufacture hundreds of small edges over their competition to earn money.\n",
    "\n",
    "A roulette ball falling into its slot and a card drawn from a well-shuffled deck are two example of probability experiments."
   ]
  },
  {
   "cell_type": "markdown",
   "id": "f3445610-f9f8-4bc0-b562-8e1d8f41f006",
   "metadata": {},
   "source": [
    "##  BASIC PROBABILITY\n",
    "\n",
    "A *probability experiment* is any event whose outcomes are perfectly \\textbf{random} and exactly predicted by probabilities. The probability space (or sample space) is the collection of all possible outcomes of the experiment. A simple random sample (SRS) is a collection of outcomes drawn at random from the probability space $S$.\n",
    "\n",
    "An *event* is a set of *outcomes*. We use set notation: an event $A$ is a subset of $S$. Determining probabilities is all about counting the number of outcomes in event $A$ and in $S$. To simplify our work, we will use the \\textbf{cardinality} operator $n(A)$ to indicate \"the number of elements (outcomes) in set (event) $A$.\" This leads us to the main formula in discrete probability theory:"
   ]
  },
  {
   "cell_type": "markdown",
   "id": "5fceb46a-1d88-415f-88c7-7833551ddc48",
   "metadata": {},
   "source": [
    "$$\n",
    "P(A)=\\frac{n(A)}{n(S)}\n",
    "$$"
   ]
  },
  {
   "cell_type": "markdown",
   "id": "806bd065-7bf6-48d8-8f84-c5be779f339c",
   "metadata": {},
   "source": [
    "### Example 1\n",
    "Suppose we draw a single card at random from a well-shuffled standard deck of 52 cards. What is the probability of drawing a $\\heartsuit$?\n",
    "\n",
    "#### Solution\n",
    "Let's define $H$ to be the event set described by \"drawing a heart.\" We count the hearts in a standard deck and find the cardinality of the event set to $|H|=13$. The sample space $S$ is the set of all possible cards that could be drawn, so"
   ]
  },
  {
   "cell_type": "markdown",
   "id": "4abcb30d-ec26-482c-a83a-2d0cba5f024c",
   "metadata": {},
   "source": [
    "$$\n",
    "|S|=52\n",
    "$$"
   ]
  },
  {
   "cell_type": "markdown",
   "id": "3f962fe3-26ea-4944-af1e-d8c24d69d44a",
   "metadata": {},
   "source": [
    "Thus, we have the following probability calculation:"
   ]
  },
  {
   "cell_type": "markdown",
   "id": "2e5025b6-f110-4e70-a513-d4bbe9bddae8",
   "metadata": {},
   "source": [
    "$$\n",
    "P(H)=\\frac{|H|}{|S|}=\\frac{13}{52}=\\frac{1}{4}\n",
    "$$"
   ]
  },
  {
   "cell_type": "markdown",
   "id": "e8524f76-2053-4387-94bf-1873eff8db85",
   "metadata": {},
   "source": [
    "While this is a simple example, the solution path is one we will use often in this course: count the outcomes in the event set and divide by the total number of outcomes possible."
   ]
  }
 ],
 "metadata": {
  "kernelspec": {
   "display_name": "Python 3 (ipykernel)",
   "language": "python",
   "name": "python3"
  },
  "language_info": {
   "codemirror_mode": {
    "name": "ipython",
    "version": 3
   },
   "file_extension": ".py",
   "mimetype": "text/x-python",
   "name": "python",
   "nbconvert_exporter": "python",
   "pygments_lexer": "ipython3",
   "version": "3.13.1"
  }
 },
 "nbformat": 4,
 "nbformat_minor": 5
}