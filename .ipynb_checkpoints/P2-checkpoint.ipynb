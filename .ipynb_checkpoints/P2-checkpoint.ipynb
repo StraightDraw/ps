{
 "cells": [
  {
   "cell_type": "markdown",
   "id": "4be590a3-6b44-404f-849a-0843c7406ec3",
   "metadata": {},
   "source": [
    "# <center> Compound Events"
   ]
  },
  {
   "cell_type": "markdown",
   "id": "bade2d06-19db-4a34-baef-a3d9d25ebe10",
   "metadata": {},
   "source": [
    "**Robb Sinn, Spring 2005**\n",
    "\n",
    "**Course Notes: MATH 3350**"
   ]
  },
  {
   "cell_type": "markdown",
   "id": "d1e414bc-1f73-4294-bb08-05ceeb7f480f",
   "metadata": {},
   "source": [
    "Many interesting probability questions involve more than one thing happening. Here are two important examples:\n",
    "\n",
    "- What is the probability that, if we play one round of roullette, the outcome is *either* red *or* an even number?\n",
    "- What is the probability that a poker pro draws an Ace-King starting hand on *both* the next hand she plays *and* the one following that?\n",
    "\n",
    "One simplistic mantra often heard in high school classrooms is that \"OR means ADD and AND means MULTIPLY.\" Not so fast. We have some conditions that must be satisfied. Here are more precise statements using set theory:\n",
    "\n",
    "1. For **disjoint** event sets $A$ and $B$:"
   ]
  },
  {
   "cell_type": "markdown",
   "id": "83b62f23-73f2-4d72-a3d2-07841c10199a",
   "metadata": {},
   "source": [
    "$$\n",
    "P(A\\text{ or }B)= P(A\\cup B)=P(A)+P(B)\n",
    "$$"
   ]
  },
  {
   "cell_type": "markdown",
   "id": "17972bcc-09cc-4cd7-a0d4-57f680592582",
   "metadata": {},
   "source": [
    "2. For **independent** event sets $A$ and $B$:"
   ]
  },
  {
   "cell_type": "markdown",
   "id": "91bc05b7-ac60-4051-9103-381685f7e4a7",
   "metadata": {},
   "source": [
    "$$\n",
    "P(A\\text{ and }B)=P(A)P(B)\n",
    "$$"
   ]
  },
  {
   "cell_type": "markdown",
   "id": "cff90abe-c09a-4478-9a24-01ee1d12c9a3",
   "metadata": {},
   "source": [
    "For the second statement, we also often use it for *indpendent trials* or *Bournouli Trials*. We'll discuss details in a moment. Right now, the key idea is that if we have more than one event, we need to know how those events are related to be able to calculate the probability."
   ]
  },
  {
   "cell_type": "markdown",
   "id": "35d00161-af20-4576-9b76-f8c23e4c4368",
   "metadata": {},
   "source": [
    "## Example 2\n",
    "Suppose we draw a single card at random from a well-shuffled standard deck of 52 cards. What is the probability of drawing a $\\spadesuit$ or a Queen?"
   ]
  },
  {
   "cell_type": "markdown",
   "id": "9cb3eb50-f2e4-4ff4-8ecc-4006cff34028",
   "metadata": {},
   "source": [
    "```{figure} /images/ProbFig1.PNG\n",
    ":height: 300px\n",
    ":name: figure-example"
   ]
  },
  {
   "cell_type": "markdown",
   "id": "360bfb4c-acf2-4c4f-a99a-84e4eb341872",
   "metadata": {},
   "source": [
    "### Solution\n",
    "\n",
    "The probability of drawing a spade is \n",
    "$$\n",
    "\\frac{13}{52}=\\frac{1}{4}\n",
    "$$\n",
    "and the probability of drawing a Queen is \n",
    "$$\n",
    "\\frac{4}{52}=\\frac{1}{13}\n",
    "$$\n",
    "But we can't simply add the two outcomes:\n",
    "$$P(\\text{Q or }\\spadesuit)=\\frac{16}{52}\\neq \\frac{13}{52}+\\frac{4}{52}=\\frac{17}{52}$$\n",
    "\n",
    "For event sets, \"either $A$ or $B$\" usually translates to $A\\cup B$, while \"both $A$ and $B$\" indicates $A\\cap B$. High school students are sometimes taught: \"If you see OR, add. But if you see AND, multiply.\" Sadly, this is too simplistic and often incorrect. It's much better to think in terms of sets. To the right, the figure shows the set of all queens, $Q$, and the set of all $\\spadesuit$'s, $S$. Note that:\n",
    "\n",
    "  - $n(Q)=4$\n",
    "  - $n(S)=13$\n",
    "  - $n(Q\\cap S)=1$\n",
    "\n",
    "We have two different rules for calculating $P(\\text{A or B})$ depending whether the sets are disjoint:\n",
    "\n",
    "1. For **disjoint** event sets:\n",
    "$$\n",
    "P(A\\cup B)=P(A)+P(B)\n",
    "$$\n",
    "\n",
    "2. Otherwise:\n",
    "$$P(A\\cup B)=P(A)+P(B)-P(A\\cap B)$$\n",
    "\n",
    "Sets $A$ and $B$ are **disjoint** provided $A\\cap B=\\emptyset$. Note that when $A\\cap B=\\emptyset $, then by definition $P(A\\cap B)=0$ since $n(\\emptyset )=0$. The cardinality of set with no elements is zero. Consider the probability of drawing one card and getting both an Ace and an 8. The event sets are disjoint because they can never occur simultaneously. For non-disjoint sets, we must find a way to count $|A\\cap B|$."
   ]
  },
  {
   "cell_type": "markdown",
   "id": "8f1427ae-d476-4642-96dc-29ad8d8c0653",
   "metadata": {},
   "source": [
    "```{figure} /images/ProbFig2a.png\n",
    ":height: 300px\n",
    ":name: figure-example2a"
   ]
  },
  {
   "cell_type": "markdown",
   "id": "cf62d650-b2c2-40b6-b1a2-645f15e579e7",
   "metadata": {},
   "source": [
    "When we have more than two sets, we use an idea called the **principal of inclusion-exclusion**. Use the Venn Diagram above to find all three 2-way intersections. They each get double-counted, so we need to the throw way the extra. As we do, we also end up throwing away the 3-way intersection -- three times! We added the 3-way intersection three times, then subtracted it three times, so the final step is to add it back in exactly once. This is shown in the updated figure below. "
   ]
  },
  {
   "cell_type": "markdown",
   "id": "cc6b35cd-7039-46c2-b752-4d8abc92cd68",
   "metadata": {},
   "source": [
    "```{figure} /images/ProbFig2b.png\n",
    ":height: 300px\n",
    ":name: figure-example2b"
   ]
  },
  {
   "cell_type": "markdown",
   "id": "8a5ce682-de27-4819-ad60-ec9e7f1ec3c1",
   "metadata": {},
   "source": [
    "For three non-disjoint sets $A$, $B$ and $C$, it looks like this:\n",
    "\n",
    "$$P(A\\cup B\\cup C)=P(A)+P(B)+P(C)-P(A\\cap B)-P(A\\cap C)-P(B\\cap C)+P(A\\cap B\\cap C)$$\n",
    "\n",
    "The same idea works regardless of how many sets are involved, but the calculations are a bit tedious. In the grand old tradition of math texts, anything tedious is, of course, left to the reader."
   ]
  }
 ],
 "metadata": {
  "kernelspec": {
   "display_name": "Python 3 (ipykernel)",
   "language": "python",
   "name": "python3"
  },
  "language_info": {
   "codemirror_mode": {
    "name": "ipython",
    "version": 3
   },
   "file_extension": ".py",
   "mimetype": "text/x-python",
   "name": "python",
   "nbconvert_exporter": "python",
   "pygments_lexer": "ipython3",
   "version": "3.13.1"
  }
 },
 "nbformat": 4,
 "nbformat_minor": 5
}
