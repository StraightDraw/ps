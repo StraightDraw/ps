{
 "cells": [
  {
   "cell_type": "markdown",
   "id": "720b3781-b086-4089-941a-c525781631d5",
   "metadata": {},
   "source": [
    "# Basic Probability"
   ]
  },
  {
   "cell_type": "markdown",
   "id": "e4dd83cd-1659-4c7c-8eef-610b6d85bcfd",
   "metadata": {},
   "source": [
    "These course notes provide and introduction to probability and statistics at the introductory level for a mathematics major. Many of the examples in these notes are real poker problems from No Limit Texas Holdem (NLHE).\n",
    "\n",
    "With probability theory mathematicians predict the future. Statistics help mathematicians analyze the past. With an understanding of both areas of mathematics, successful professional poker players manufacture dozens of small edges over their competition to earn money.\n",
    "\n",
    "A roulette ball falling into its slot and a card drawn from a well-shuffled deck are two additional examples of probability experiments."
   ]
  },
  {
   "cell_type": "markdown",
   "id": "f3445610-f9f8-4bc0-b562-8e1d8f41f006",
   "metadata": {},
   "source": [
    "##  Probability Experiments\n",
    "\n",
    "A *probability experiment* is any event whose outcomes are perfectly \\textbf{random} and exactly predicted by probabilities. The probability space (or sample space) is the collection of all possible outcomes of the experiment. A simple random sample (SRS) is a collection of outcomes drawn at random from the probability space $S$.\n",
    "\n",
    "An *event* is a set of *outcomes*. We use set notation: an event $A$ is a subset of $S$. Determining probabilities is all about counting the number of outcomes in event $A$ and in $S$. To simplify our work, we will use the \\textbf{cardinality} operator $n(A)$ to indicate \"the number of elements (outcomes) in set (event) $A$.\" This leads us to the main formula in discrete probability theory:"
   ]
  },
  {
   "cell_type": "markdown",
   "id": "e0ba719a-c61d-4237-a6f1-1d9e86b26b14",
   "metadata": {},
   "source": [
    "```{sidebar} Cardinality\n",
    "When we wish to know the number of items in the set $X$, we use the cardinality operator $n(X)$. We can also use the absolute value to indicate the same calculation: $|X|$.\n",
    "```"
   ]
  },
  {
   "cell_type": "markdown",
   "id": "5fceb46a-1d88-415f-88c7-7833551ddc48",
   "metadata": {},
   "source": [
    "$$\n",
    "P(A)=\\frac{n(A)}{n(S)}\n",
    "$$"
   ]
  },
  {
   "cell_type": "markdown",
   "id": "9e93499b-c6b1-43b1-a1ee-c95ff3bf9525",
   "metadata": {},
   "source": [
    "Let's practice these ideas."
   ]
  },
  {
   "cell_type": "markdown",
   "id": "28e3dc98-5b54-4049-b124-3d718daaf3fd",
   "metadata": {},
   "source": [
    "```{admonition} Example 1\n",
    "Suppose we draw a single card at random from a well-shuffled standard deck of 52 cards. What is the probability of drawing a $\\heartsuit$?\n",
    "```"
   ]
  },
  {
   "cell_type": "markdown",
   "id": "51b7e572-1752-4de5-ab64-a0c0d58c50c5",
   "metadata": {},
   "source": [
    "**Solution.**\n",
    "Let's define $H$ to be the event set described by \"drawing a heart.\" We count the hearts in a standard deck and find the cardinality of the event set to $|H|=13$. The sample space $S$ is the set of all possible cards that could be drawn, so"
   ]
  },
  {
   "cell_type": "markdown",
   "id": "4abcb30d-ec26-482c-a83a-2d0cba5f024c",
   "metadata": {},
   "source": [
    "$$\n",
    "|S|=52\n",
    "$$"
   ]
  },
  {
   "cell_type": "markdown",
   "id": "3f962fe3-26ea-4944-af1e-d8c24d69d44a",
   "metadata": {},
   "source": [
    "Thus, we have the following probability calculation:"
   ]
  },
  {
   "cell_type": "markdown",
   "id": "2e5025b6-f110-4e70-a513-d4bbe9bddae8",
   "metadata": {},
   "source": [
    "$$\n",
    "P(H)=\\frac{|H|}{|S|}=\\frac{13}{52}=\\frac{1}{4}\n",
    "$$"
   ]
  },
  {
   "cell_type": "markdown",
   "id": "e8524f76-2053-4387-94bf-1873eff8db85",
   "metadata": {},
   "source": [
    "```{tip}\n",
    "The solution path demonstrated in Example 1 will be of use to us quite often in this course. **Count the outcomes in the event set, and divide by the total number of outcomes possible.**\n",
    "```"
   ]
  }
 ],
 "metadata": {
  "kernelspec": {
   "display_name": "Python 3 (ipykernel)",
   "language": "python",
   "name": "python3"
  },
  "language_info": {
   "codemirror_mode": {
    "name": "ipython",
    "version": 3
   },
   "file_extension": ".py",
   "mimetype": "text/x-python",
   "name": "python",
   "nbconvert_exporter": "python",
   "pygments_lexer": "ipython3",
   "version": "3.13.1"
  }
 },
 "nbformat": 4,
 "nbformat_minor": 5
}
