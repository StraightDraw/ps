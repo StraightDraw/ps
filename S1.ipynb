{
 "cells": [
  {
   "cell_type": "markdown",
   "id": "inner-charge",
   "metadata": {},
   "source": [
    "# Exploratory Data Analysis"
   ]
  },
  {
   "cell_type": "markdown",
   "id": "b44b28a3-d050-4498-bd47-018a7828491e",
   "metadata": {},
   "source": [
    "**Robb Sinn, Spring 2005**\n",
    "\n",
    "**Course Notes: MATH 3350**"
   ]
  },
  {
   "cell_type": "markdown",
   "id": "arabic-pathology",
   "metadata": {},
   "source": [
    "Two key questions for analyses of data in statistics are:\n",
    "\n",
    "1. Shape?\n",
    "2. Outliers/skew?\n",
    "\n",
    "For shape, we would like to know whether the distribution is **normal** (bell-shaped). Is it *uniform* meaning all outcomes are equally likely? Is it some other known distribution like the binomial distribution? The most significant shape for introductory statistics is the **normal distribution** since parametric statistical tests like the $z$-test, the $t$-test and ANOVA are built on assumptions of normality. The second question is whether or not skew and outliers exist because we often must treat skewed data and outliers with care and possibly different tools. The first steps of data analysis are to generate numeric descriptions of the data (descriptive statistics) and typical graphical displays of data like histograms, stem plots."
   ]
  },
  {
   "cell_type": "markdown",
   "id": "3ad653ab-30fe-44d7-8f65-6237b86fdce8",
   "metadata": {},
   "source": [
    "````{seealso}\n",
    "**Data Visualization.** Data scientists use more robust analytic tools and have entire courses on data visualization which is the art of creating visual displays that tell a story about the data. To understand more about the groundbreaking work in data science, check out several data visualizations at the Pew Research Center regarding [political beliefs in the US](https://www.pewresearch.org/fact-tank/2014/12/29/our-favorite-pew-research-center-data-visualizations-from-2014). Also check out this [blog post](https://visme.co/blog/best-data-visualizations) where data science and artwork intersect</a> or this marketing blog with [16 great examples](https://blog.hubspot.com/marketing/great-data-visualization-examples) of data visualizations.\n",
    "\n",
    "As data science progresses, more and more exciting avenues exist for displaying and visualizing data. In this course, we will provide the basic numeric and graphic approaches to summarizing data. You're learning some R coding along the way. By the end of this course, if you're interested, a few hours will be all you will need to teach yourself to produce some pretty powerful visualizations of your own with RStudio.\n",
    "````"
   ]
  },
  {
   "cell_type": "markdown",
   "id": "formed-council",
   "metadata": {},
   "source": [
    "## Types of Data\n",
    "Data come in two varieties: **quantitative** (numeric) or **qualitative** (categorical) data. Poker player Pete plays Heads Up tournaments with a 20 dollar buy-in (HU20). These two-player tournaments take less than half an hour where he either loses 21, or wins 19. (The online casino takes a cut of each tournament buy-in, called the *rake*.) Pete's HU20 win-loss record is *category data*, a series of W's and L's.\n",
    "\n",
    "Pete's friend Mandy, a math major with a stats minor at North Georgia, enjoys 6-max NL10, an action-intensive version of No Limit Texas Holdem with a maximum of 6 players at the table rather than the standard 9 or 10 players per table. Mandy's list of winnings from her past twenty cash game sessions is *numeric data*.\n",
    "\n",
    "For numeric data sets, we have a **sample** of $n$ data points:"
   ]
  },
  {
   "cell_type": "markdown",
   "id": "1698aa99-3860-4a16-9e2f-8022099205f2",
   "metadata": {},
   "source": [
    "$$\n",
    "\\left\\{x_{1},x_{2},\\dots, x_{n}\\right\\} \\in X\n",
    "$$"
   ]
  },
  {
   "cell_type": "markdown",
   "id": "44d4adcd-8eee-49b4-bbac-34a1c49b3587",
   "metadata": {
    "tags": []
   },
   "source": [
    "## Parameters and Statistics\n",
    "\n",
    "In statistics, we use two different sets of symbols to refer to the mean and standard deviation:"
   ]
  },
  {
   "cell_type": "markdown",
   "id": "3a2bcc86-c3cd-463c-982e-64a019610450",
   "metadata": {},
   "source": [
    "$$\n",
    "\\begin{array}{c|cc}\n",
    "&\\text{Population}&\\text{Sample}\\\\ \\hline\n",
    "\\text{AVG}&\\mu&\\bar{x}\\\\\n",
    "\\text{SD}&\\sigma& s\\\\\n",
    "\\end{array}\n",
    "$$"
   ]
  },
  {
   "cell_type": "markdown",
   "id": "016b0a88-71a8-4755-9569-a52e1ace8dc4",
   "metadata": {},
   "source": [
    "The population parameters $\\mu$ and $\\sigma$ are rarely known. Much of statistics is about estimating these parameters using the sample statistics $\\bar{x}$ and $s$ respectively. For example, a poker player's distribution of winnings (per 100 hands) is a normal distribution. True win rates are not known. Winning poker players often suffer long colds streaks. Over time, things average out. We don't know Mandy's average win rate, $\\mu$, but we can take sample of recent sessions and estimate it with $\\bar{x}$."
   ]
  },
  {
   "cell_type": "markdown",
   "id": "8bc3d8a2-cabf-421b-bc89-d4fbab922ba6",
   "metadata": {},
   "source": [
    "````{admonition}\n",
    ":note: Initialization Block\n",
    "The **Mosaic** package was created by statistics instructors to help students learn the coding in R. Commands are streamlined to be more intuitive. Installing **Mosaic** (Tools: \"Install Packages\") must only be done once (and takes 60-90 seconds). After that, we use the **library** function to load it. Aren't sure? If you execute the code block below, RStudio will prompt you to install **Mosaic** if needed."
   ]
  },
  {
   "cell_type": "markdown",
   "id": "acceptable-motor",
   "metadata": {},
   "source": [
    "```\n",
    "library(mosaic)\n",
    "```"
   ]
  }
 ],
 "metadata": {
  "kernelspec": {
   "display_name": "Python 3 (ipykernel)",
   "language": "python",
   "name": "python3"
  },
  "language_info": {
   "codemirror_mode": {
    "name": "ipython",
    "version": 3
   },
   "file_extension": ".py",
   "mimetype": "text/x-python",
   "name": "python",
   "nbconvert_exporter": "python",
   "pygments_lexer": "ipython3",
   "version": "3.13.1"
  }
 },
 "nbformat": 4,
 "nbformat_minor": 5
}
